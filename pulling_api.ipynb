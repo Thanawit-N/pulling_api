{
  "nbformat": 4,
  "nbformat_minor": 0,
  "metadata": {
    "colab": {
      "provenance": [],
      "authorship_tag": "ABX9TyNbTEOahf7vqHTwwVtbf7Oo",
      "include_colab_link": true
    },
    "kernelspec": {
      "name": "python3",
      "display_name": "Python 3"
    },
    "language_info": {
      "name": "python"
    }
  },
  "cells": [
    {
      "cell_type": "markdown",
      "metadata": {
        "id": "view-in-github",
        "colab_type": "text"
      },
      "source": [
        "<a href=\"https://colab.research.google.com/github/Thanawit-N/pulling_api/blob/main/pulling_api.ipynb\" target=\"_parent\"><img src=\"https://colab.research.google.com/assets/colab-badge.svg\" alt=\"Open In Colab\"/></a>"
      ]
    },
    {
      "cell_type": "markdown",
      "source": [
        "### **Import modul**"
      ],
      "metadata": {
        "id": "uMpoa_Q63Pzh"
      }
    },
    {
      "cell_type": "code",
      "source": [
        "import pandas as pd\n",
        "import requests\n",
        "import matplotlib.pyplot as plt\n",
        "import datetime"
      ],
      "metadata": {
        "id": "ZGOMMp9Y3XM3"
      },
      "execution_count": 7,
      "outputs": []
    },
    {
      "cell_type": "markdown",
      "source": [
        "#**API URL and End point**\n",
        "\n",
        "# Product Concept\n",
        "5 day forecast is available at any location on the globe. It includes weather forecast data with 3-hour step.\n",
        "\n",
        "api call\n",
        "api.openweathermap.org/data/2.5/forecast?lat=**{lat}**&lon=**{lon}**&appid=**{API key}**\n",
        "\n",
        "end point\n",
        "\n",
        "lat\t(required) Latitude for london is 51.507351\n",
        "\n",
        "lon (required) longtitude for london is -0.127758\n",
        "\n",
        "API key (required) Your unique API key"
      ],
      "metadata": {
        "id": "xWP3CKgm3jSr"
      }
    },
    {
      "cell_type": "code",
      "source": [
        "lat = '51.507351' #for latitude\n",
        "lon = '-0.127758' #for longtude\n",
        "API_key = open('api_key.txt').read() # for security, you should keep it secretly. in this time save in txt file.\n",
        "URL = \"https://api.openweathermap.org/data/2.5/forecast?lat=\" + lat + \"&lon=\" + lon + \"&appid=\" + API_key\n",
        "print(URL)"
      ],
      "metadata": {
        "id": "NawHGKKh3k-O",
        "colab": {
          "base_uri": "https://localhost:8080/"
        },
        "outputId": "958becae-762c-4714-b4b6-0551cab8f242"
      },
      "execution_count": 9,
      "outputs": [
        {
          "output_type": "stream",
          "name": "stdout",
          "text": [
            "https://api.openweathermap.org/data/2.5/forecast?lat=51.507351&lon=-0.127758&appid=caf2eed67e571dbba84fc0d004a6ce5a\n"
          ]
        }
      ]
    },
    {
      "cell_type": "markdown",
      "source": [
        "## **Pull API**"
      ],
      "metadata": {
        "id": "SFgXQalb5ku8"
      }
    },
    {
      "cell_type": "code",
      "source": [
        "response = requests.get(URL).json()\n",
        "print(response)\n",
        "print(type(response))"
      ],
      "metadata": {
        "id": "Xh1Q5Rvz5nVi",
        "colab": {
          "base_uri": "https://localhost:8080/"
        },
        "outputId": "c0af05ee-c235-4edf-d9e4-3bbddd38ff29"
      },
      "execution_count": 10,
      "outputs": [
        {
          "output_type": "stream",
          "name": "stdout",
          "text": [
            "{'cod': '200', 'message': 0, 'cnt': 40, 'list': [{'dt': 1707480000, 'main': {'temp': 284.77, 'feels_like': 284.31, 'temp_min': 284.63, 'temp_max': 284.77, 'pressure': 977, 'sea_level': 977, 'grnd_level': 976, 'humidity': 89, 'temp_kf': 0.14}, 'weather': [{'id': 500, 'main': 'Rain', 'description': 'light rain', 'icon': '10d'}], 'clouds': {'all': 75}, 'wind': {'speed': 6.54, 'deg': 210, 'gust': 13.19}, 'visibility': 10000, 'pop': 1, 'rain': {'3h': 0.26}, 'sys': {'pod': 'd'}, 'dt_txt': '2024-02-09 12:00:00'}, {'dt': 1707490800, 'main': {'temp': 284.78, 'feels_like': 284.24, 'temp_min': 284.78, 'temp_max': 284.79, 'pressure': 977, 'sea_level': 977, 'grnd_level': 975, 'humidity': 86, 'temp_kf': -0.01}, 'weather': [{'id': 500, 'main': 'Rain', 'description': 'light rain', 'icon': '10d'}], 'clouds': {'all': 82}, 'wind': {'speed': 6.37, 'deg': 197, 'gust': 12.63}, 'visibility': 10000, 'pop': 0.41, 'rain': {'3h': 0.1}, 'sys': {'pod': 'd'}, 'dt_txt': '2024-02-09 15:00:00'}, {'dt': 1707501600, 'main': {'temp': 284.18, 'feels_like': 283.58, 'temp_min': 283.88, 'temp_max': 284.18, 'pressure': 978, 'sea_level': 978, 'grnd_level': 976, 'humidity': 86, 'temp_kf': 0.3}, 'weather': [{'id': 500, 'main': 'Rain', 'description': 'light rain', 'icon': '10n'}], 'clouds': {'all': 91}, 'wind': {'speed': 5.93, 'deg': 196, 'gust': 12.33}, 'visibility': 10000, 'pop': 0.64, 'rain': {'3h': 0.42}, 'sys': {'pod': 'n'}, 'dt_txt': '2024-02-09 18:00:00'}, {'dt': 1707512400, 'main': {'temp': 282.86, 'feels_like': 280.94, 'temp_min': 282.86, 'temp_max': 282.86, 'pressure': 979, 'sea_level': 979, 'grnd_level': 977, 'humidity': 91, 'temp_kf': 0}, 'weather': [{'id': 804, 'main': 'Clouds', 'description': 'overcast clouds', 'icon': '04n'}], 'clouds': {'all': 100}, 'wind': {'speed': 3.69, 'deg': 196, 'gust': 8.5}, 'visibility': 10000, 'pop': 0.28, 'sys': {'pod': 'n'}, 'dt_txt': '2024-02-09 21:00:00'}, {'dt': 1707523200, 'main': {'temp': 282.33, 'feels_like': 281.82, 'temp_min': 282.33, 'temp_max': 282.33, 'pressure': 980, 'sea_level': 980, 'grnd_level': 977, 'humidity': 96, 'temp_kf': 0}, 'weather': [{'id': 500, 'main': 'Rain', 'description': 'light rain', 'icon': '10n'}], 'clouds': {'all': 100}, 'wind': {'speed': 1.54, 'deg': 178, 'gust': 4.14}, 'visibility': 10000, 'pop': 0.5, 'rain': {'3h': 1.63}, 'sys': {'pod': 'n'}, 'dt_txt': '2024-02-10 00:00:00'}, {'dt': 1707534000, 'main': {'temp': 282.42, 'feels_like': 282.04, 'temp_min': 282.42, 'temp_max': 282.42, 'pressure': 980, 'sea_level': 980, 'grnd_level': 977, 'humidity': 98, 'temp_kf': 0}, 'weather': [{'id': 500, 'main': 'Rain', 'description': 'light rain', 'icon': '10n'}], 'clouds': {'all': 100}, 'wind': {'speed': 1.43, 'deg': 171, 'gust': 4.18}, 'visibility': 10000, 'pop': 0.65, 'rain': {'3h': 0.59}, 'sys': {'pod': 'n'}, 'dt_txt': '2024-02-10 03:00:00'}, {'dt': 1707544800, 'main': {'temp': 282.1, 'feels_like': 281.37, 'temp_min': 282.1, 'temp_max': 282.1, 'pressure': 982, 'sea_level': 982, 'grnd_level': 979, 'humidity': 95, 'temp_kf': 0}, 'weather': [{'id': 500, 'main': 'Rain', 'description': 'light rain', 'icon': '10n'}], 'clouds': {'all': 100}, 'wind': {'speed': 1.72, 'deg': 246, 'gust': 4.88}, 'visibility': 10000, 'pop': 0.81, 'rain': {'3h': 0.75}, 'sys': {'pod': 'n'}, 'dt_txt': '2024-02-10 06:00:00'}, {'dt': 1707555600, 'main': {'temp': 281.79, 'feels_like': 280.44, 'temp_min': 281.79, 'temp_max': 281.79, 'pressure': 984, 'sea_level': 984, 'grnd_level': 981, 'humidity': 83, 'temp_kf': 0}, 'weather': [{'id': 804, 'main': 'Clouds', 'description': 'overcast clouds', 'icon': '04d'}], 'clouds': {'all': 99}, 'wind': {'speed': 2.4, 'deg': 226, 'gust': 5.95}, 'visibility': 10000, 'pop': 0.1, 'sys': {'pod': 'd'}, 'dt_txt': '2024-02-10 09:00:00'}, {'dt': 1707566400, 'main': {'temp': 283.29, 'feels_like': 282.11, 'temp_min': 283.29, 'temp_max': 283.29, 'pressure': 985, 'sea_level': 985, 'grnd_level': 982, 'humidity': 67, 'temp_kf': 0}, 'weather': [{'id': 804, 'main': 'Clouds', 'description': 'overcast clouds', 'icon': '04d'}], 'clouds': {'all': 100}, 'wind': {'speed': 2.89, 'deg': 199, 'gust': 4.46}, 'visibility': 10000, 'pop': 0.04, 'sys': {'pod': 'd'}, 'dt_txt': '2024-02-10 12:00:00'}, {'dt': 1707577200, 'main': {'temp': 283.43, 'feels_like': 282.13, 'temp_min': 283.43, 'temp_max': 283.43, 'pressure': 985, 'sea_level': 985, 'grnd_level': 982, 'humidity': 62, 'temp_kf': 0}, 'weather': [{'id': 804, 'main': 'Clouds', 'description': 'overcast clouds', 'icon': '04d'}], 'clouds': {'all': 100}, 'wind': {'speed': 3.61, 'deg': 179, 'gust': 5.62}, 'visibility': 10000, 'pop': 0, 'sys': {'pod': 'd'}, 'dt_txt': '2024-02-10 15:00:00'}, {'dt': 1707588000, 'main': {'temp': 281.16, 'feels_like': 279.4, 'temp_min': 281.16, 'temp_max': 281.16, 'pressure': 986, 'sea_level': 986, 'grnd_level': 983, 'humidity': 77, 'temp_kf': 0}, 'weather': [{'id': 804, 'main': 'Clouds', 'description': 'overcast clouds', 'icon': '04n'}], 'clouds': {'all': 100}, 'wind': {'speed': 2.8, 'deg': 154, 'gust': 6.91}, 'visibility': 10000, 'pop': 0, 'sys': {'pod': 'n'}, 'dt_txt': '2024-02-10 18:00:00'}, {'dt': 1707598800, 'main': {'temp': 280.36, 'feels_like': 278.45, 'temp_min': 280.36, 'temp_max': 280.36, 'pressure': 986, 'sea_level': 986, 'grnd_level': 984, 'humidity': 76, 'temp_kf': 0}, 'weather': [{'id': 804, 'main': 'Clouds', 'description': 'overcast clouds', 'icon': '04n'}], 'clouds': {'all': 100}, 'wind': {'speed': 2.8, 'deg': 128, 'gust': 8.65}, 'visibility': 10000, 'pop': 0, 'sys': {'pod': 'n'}, 'dt_txt': '2024-02-10 21:00:00'}, {'dt': 1707609600, 'main': {'temp': 280.34, 'feels_like': 278.29, 'temp_min': 280.34, 'temp_max': 280.34, 'pressure': 986, 'sea_level': 986, 'grnd_level': 983, 'humidity': 82, 'temp_kf': 0}, 'weather': [{'id': 804, 'main': 'Clouds', 'description': 'overcast clouds', 'icon': '04n'}], 'clouds': {'all': 100}, 'wind': {'speed': 2.99, 'deg': 113, 'gust': 8.13}, 'visibility': 10000, 'pop': 0, 'sys': {'pod': 'n'}, 'dt_txt': '2024-02-11 00:00:00'}, {'dt': 1707620400, 'main': {'temp': 280.39, 'feels_like': 278.83, 'temp_min': 280.39, 'temp_max': 280.39, 'pressure': 986, 'sea_level': 986, 'grnd_level': 983, 'humidity': 89, 'temp_kf': 0}, 'weather': [{'id': 804, 'main': 'Clouds', 'description': 'overcast clouds', 'icon': '04n'}], 'clouds': {'all': 100}, 'wind': {'speed': 2.34, 'deg': 112, 'gust': 5.78}, 'visibility': 10000, 'pop': 0.2, 'sys': {'pod': 'n'}, 'dt_txt': '2024-02-11 03:00:00'}, {'dt': 1707631200, 'main': {'temp': 280.36, 'feels_like': 279.7, 'temp_min': 280.36, 'temp_max': 280.36, 'pressure': 986, 'sea_level': 986, 'grnd_level': 983, 'humidity': 93, 'temp_kf': 0}, 'weather': [{'id': 500, 'main': 'Rain', 'description': 'light rain', 'icon': '10n'}], 'clouds': {'all': 99}, 'wind': {'speed': 1.43, 'deg': 71, 'gust': 2.84}, 'visibility': 10000, 'pop': 0.49, 'rain': {'3h': 0.54}, 'sys': {'pod': 'n'}, 'dt_txt': '2024-02-11 06:00:00'}, {'dt': 1707642000, 'main': {'temp': 280.82, 'feels_like': 280.14, 'temp_min': 280.82, 'temp_max': 280.82, 'pressure': 989, 'sea_level': 989, 'grnd_level': 986, 'humidity': 91, 'temp_kf': 0}, 'weather': [{'id': 500, 'main': 'Rain', 'description': 'light rain', 'icon': '10d'}], 'clouds': {'all': 100}, 'wind': {'speed': 1.5, 'deg': 14, 'gust': 2.82}, 'visibility': 10000, 'pop': 0.59, 'rain': {'3h': 0.48}, 'sys': {'pod': 'd'}, 'dt_txt': '2024-02-11 09:00:00'}, {'dt': 1707652800, 'main': {'temp': 281.7, 'feels_like': 280.17, 'temp_min': 281.7, 'temp_max': 281.7, 'pressure': 991, 'sea_level': 991, 'grnd_level': 988, 'humidity': 84, 'temp_kf': 0}, 'weather': [{'id': 500, 'main': 'Rain', 'description': 'light rain', 'icon': '10d'}], 'clouds': {'all': 99}, 'wind': {'speed': 2.62, 'deg': 298, 'gust': 5.25}, 'visibility': 10000, 'pop': 0.58, 'rain': {'3h': 0.44}, 'sys': {'pod': 'd'}, 'dt_txt': '2024-02-11 12:00:00'}, {'dt': 1707663600, 'main': {'temp': 281.09, 'feels_like': 278.28, 'temp_min': 281.09, 'temp_max': 281.09, 'pressure': 994, 'sea_level': 994, 'grnd_level': 991, 'humidity': 82, 'temp_kf': 0}, 'weather': [{'id': 500, 'main': 'Rain', 'description': 'light rain', 'icon': '10d'}], 'clouds': {'all': 100}, 'wind': {'speed': 4.73, 'deg': 291, 'gust': 8.47}, 'visibility': 10000, 'pop': 0.72, 'rain': {'3h': 0.67}, 'sys': {'pod': 'd'}, 'dt_txt': '2024-02-11 15:00:00'}, {'dt': 1707674400, 'main': {'temp': 280.71, 'feels_like': 278.03, 'temp_min': 280.71, 'temp_max': 280.71, 'pressure': 997, 'sea_level': 997, 'grnd_level': 994, 'humidity': 78, 'temp_kf': 0}, 'weather': [{'id': 500, 'main': 'Rain', 'description': 'light rain', 'icon': '10n'}], 'clouds': {'all': 99}, 'wind': {'speed': 4.25, 'deg': 278, 'gust': 8.74}, 'visibility': 10000, 'pop': 0.52, 'rain': {'3h': 0.12}, 'sys': {'pod': 'n'}, 'dt_txt': '2024-02-11 18:00:00'}, {'dt': 1707685200, 'main': {'temp': 278.97, 'feels_like': 275.99, 'temp_min': 278.97, 'temp_max': 278.97, 'pressure': 1000, 'sea_level': 1000, 'grnd_level': 997, 'humidity': 81, 'temp_kf': 0}, 'weather': [{'id': 802, 'main': 'Clouds', 'description': 'scattered clouds', 'icon': '03n'}], 'clouds': {'all': 40}, 'wind': {'speed': 4.05, 'deg': 270, 'gust': 10.05}, 'visibility': 10000, 'pop': 0, 'sys': {'pod': 'n'}, 'dt_txt': '2024-02-11 21:00:00'}, {'dt': 1707696000, 'main': {'temp': 277.89, 'feels_like': 275.14, 'temp_min': 277.89, 'temp_max': 277.89, 'pressure': 1001, 'sea_level': 1001, 'grnd_level': 999, 'humidity': 87, 'temp_kf': 0}, 'weather': [{'id': 801, 'main': 'Clouds', 'description': 'few clouds', 'icon': '02n'}], 'clouds': {'all': 21}, 'wind': {'speed': 3.29, 'deg': 247, 'gust': 9.33}, 'visibility': 10000, 'pop': 0, 'sys': {'pod': 'n'}, 'dt_txt': '2024-02-12 00:00:00'}, {'dt': 1707706800, 'main': {'temp': 277.3, 'feels_like': 274.57, 'temp_min': 277.3, 'temp_max': 277.3, 'pressure': 1003, 'sea_level': 1003, 'grnd_level': 1000, 'humidity': 86, 'temp_kf': 0}, 'weather': [{'id': 801, 'main': 'Clouds', 'description': 'few clouds', 'icon': '02n'}], 'clouds': {'all': 11}, 'wind': {'speed': 3.09, 'deg': 240, 'gust': 8.99}, 'visibility': 10000, 'pop': 0, 'sys': {'pod': 'n'}, 'dt_txt': '2024-02-12 03:00:00'}, {'dt': 1707717600, 'main': {'temp': 276.86, 'feels_like': 274.33, 'temp_min': 276.86, 'temp_max': 276.86, 'pressure': 1004, 'sea_level': 1004, 'grnd_level': 1001, 'humidity': 86, 'temp_kf': 0}, 'weather': [{'id': 800, 'main': 'Clear', 'description': 'clear sky', 'icon': '01n'}], 'clouds': {'all': 9}, 'wind': {'speed': 2.72, 'deg': 214, 'gust': 9.1}, 'visibility': 10000, 'pop': 0, 'sys': {'pod': 'n'}, 'dt_txt': '2024-02-12 06:00:00'}, {'dt': 1707728400, 'main': {'temp': 278.36, 'feels_like': 275.94, 'temp_min': 278.36, 'temp_max': 278.36, 'pressure': 1005, 'sea_level': 1005, 'grnd_level': 1002, 'humidity': 80, 'temp_kf': 0}, 'weather': [{'id': 801, 'main': 'Clouds', 'description': 'few clouds', 'icon': '02d'}], 'clouds': {'all': 20}, 'wind': {'speed': 2.95, 'deg': 202, 'gust': 10.54}, 'visibility': 10000, 'pop': 0, 'sys': {'pod': 'd'}, 'dt_txt': '2024-02-12 09:00:00'}, {'dt': 1707739200, 'main': {'temp': 282.76, 'feels_like': 280.22, 'temp_min': 282.76, 'temp_max': 282.76, 'pressure': 1004, 'sea_level': 1004, 'grnd_level': 1001, 'humidity': 67, 'temp_kf': 0}, 'weather': [{'id': 802, 'main': 'Clouds', 'description': 'scattered clouds', 'icon': '03d'}], 'clouds': {'all': 34}, 'wind': {'speed': 5.09, 'deg': 224, 'gust': 11.28}, 'visibility': 10000, 'pop': 0, 'sys': {'pod': 'd'}, 'dt_txt': '2024-02-12 12:00:00'}, {'dt': 1707750000, 'main': {'temp': 283.21, 'feels_like': 281.89, 'temp_min': 283.21, 'temp_max': 283.21, 'pressure': 1004, 'sea_level': 1004, 'grnd_level': 1001, 'humidity': 62, 'temp_kf': 0}, 'weather': [{'id': 500, 'main': 'Rain', 'description': 'light rain', 'icon': '10d'}], 'clouds': {'all': 15}, 'wind': {'speed': 6, 'deg': 227, 'gust': 12.71}, 'visibility': 10000, 'pop': 0.33, 'rain': {'3h': 0.12}, 'sys': {'pod': 'd'}, 'dt_txt': '2024-02-12 15:00:00'}, {'dt': 1707760800, 'main': {'temp': 281.45, 'feels_like': 278.25, 'temp_min': 281.45, 'temp_max': 281.45, 'pressure': 1004, 'sea_level': 1004, 'grnd_level': 1001, 'humidity': 73, 'temp_kf': 0}, 'weather': [{'id': 500, 'main': 'Rain', 'description': 'light rain', 'icon': '10n'}], 'clouds': {'all': 35}, 'wind': {'speed': 5.96, 'deg': 230, 'gust': 13.2}, 'visibility': 10000, 'pop': 0.22, 'rain': {'3h': 0.25}, 'sys': {'pod': 'n'}, 'dt_txt': '2024-02-12 18:00:00'}, {'dt': 1707771600, 'main': {'temp': 280, 'feels_like': 276.63, 'temp_min': 280, 'temp_max': 280, 'pressure': 1006, 'sea_level': 1006, 'grnd_level': 1003, 'humidity': 74, 'temp_kf': 0}, 'weather': [{'id': 500, 'main': 'Rain', 'description': 'light rain', 'icon': '10n'}], 'clouds': {'all': 96}, 'wind': {'speed': 5.4, 'deg': 249, 'gust': 13.01}, 'visibility': 10000, 'pop': 0.51, 'rain': {'3h': 0.34}, 'sys': {'pod': 'n'}, 'dt_txt': '2024-02-12 21:00:00'}, {'dt': 1707782400, 'main': {'temp': 278.8, 'feels_like': 275.28, 'temp_min': 278.8, 'temp_max': 278.8, 'pressure': 1007, 'sea_level': 1007, 'grnd_level': 1005, 'humidity': 76, 'temp_kf': 0}, 'weather': [{'id': 803, 'main': 'Clouds', 'description': 'broken clouds', 'icon': '04n'}], 'clouds': {'all': 68}, 'wind': {'speed': 5.05, 'deg': 253, 'gust': 11.18}, 'visibility': 10000, 'pop': 0.38, 'sys': {'pod': 'n'}, 'dt_txt': '2024-02-13 00:00:00'}, {'dt': 1707793200, 'main': {'temp': 277.81, 'feels_like': 274.93, 'temp_min': 277.81, 'temp_max': 277.81, 'pressure': 1009, 'sea_level': 1009, 'grnd_level': 1006, 'humidity': 79, 'temp_kf': 0}, 'weather': [{'id': 800, 'main': 'Clear', 'description': 'clear sky', 'icon': '01n'}], 'clouds': {'all': 0}, 'wind': {'speed': 3.45, 'deg': 245, 'gust': 10.06}, 'visibility': 10000, 'pop': 0, 'sys': {'pod': 'n'}, 'dt_txt': '2024-02-13 03:00:00'}, {'dt': 1707804000, 'main': {'temp': 276.96, 'feels_like': 275.18, 'temp_min': 276.96, 'temp_max': 276.96, 'pressure': 1009, 'sea_level': 1009, 'grnd_level': 1006, 'humidity': 82, 'temp_kf': 0}, 'weather': [{'id': 800, 'main': 'Clear', 'description': 'clear sky', 'icon': '01n'}], 'clouds': {'all': 5}, 'wind': {'speed': 1.96, 'deg': 233, 'gust': 6.61}, 'visibility': 10000, 'pop': 0, 'sys': {'pod': 'n'}, 'dt_txt': '2024-02-13 06:00:00'}, {'dt': 1707814800, 'main': {'temp': 277.88, 'feels_like': 276.82, 'temp_min': 277.88, 'temp_max': 277.88, 'pressure': 1010, 'sea_level': 1010, 'grnd_level': 1007, 'humidity': 74, 'temp_kf': 0}, 'weather': [{'id': 804, 'main': 'Clouds', 'description': 'overcast clouds', 'icon': '04d'}], 'clouds': {'all': 90}, 'wind': {'speed': 1.48, 'deg': 222, 'gust': 2.96}, 'visibility': 10000, 'pop': 0, 'sys': {'pod': 'd'}, 'dt_txt': '2024-02-13 09:00:00'}, {'dt': 1707825600, 'main': {'temp': 281.21, 'feels_like': 280.27, 'temp_min': 281.21, 'temp_max': 281.21, 'pressure': 1009, 'sea_level': 1009, 'grnd_level': 1007, 'humidity': 57, 'temp_kf': 0}, 'weather': [{'id': 804, 'main': 'Clouds', 'description': 'overcast clouds', 'icon': '04d'}], 'clouds': {'all': 86}, 'wind': {'speed': 1.8, 'deg': 190, 'gust': 2.88}, 'visibility': 10000, 'pop': 0, 'sys': {'pod': 'd'}, 'dt_txt': '2024-02-13 12:00:00'}, {'dt': 1707836400, 'main': {'temp': 282.03, 'feels_like': 280.58, 'temp_min': 282.03, 'temp_max': 282.03, 'pressure': 1008, 'sea_level': 1008, 'grnd_level': 1005, 'humidity': 61, 'temp_kf': 0}, 'weather': [{'id': 803, 'main': 'Clouds', 'description': 'broken clouds', 'icon': '04d'}], 'clouds': {'all': 79}, 'wind': {'speed': 2.59, 'deg': 181, 'gust': 2.73}, 'visibility': 10000, 'pop': 0, 'sys': {'pod': 'd'}, 'dt_txt': '2024-02-13 15:00:00'}, {'dt': 1707847200, 'main': {'temp': 280.71, 'feels_like': 280.71, 'temp_min': 280.71, 'temp_max': 280.71, 'pressure': 1008, 'sea_level': 1008, 'grnd_level': 1005, 'humidity': 76, 'temp_kf': 0}, 'weather': [{'id': 804, 'main': 'Clouds', 'description': 'overcast clouds', 'icon': '04n'}], 'clouds': {'all': 87}, 'wind': {'speed': 1.23, 'deg': 137, 'gust': 2.29}, 'visibility': 10000, 'pop': 0, 'sys': {'pod': 'n'}, 'dt_txt': '2024-02-13 18:00:00'}, {'dt': 1707858000, 'main': {'temp': 280.36, 'feels_like': 280.36, 'temp_min': 280.36, 'temp_max': 280.36, 'pressure': 1009, 'sea_level': 1009, 'grnd_level': 1006, 'humidity': 80, 'temp_kf': 0}, 'weather': [{'id': 804, 'main': 'Clouds', 'description': 'overcast clouds', 'icon': '04n'}], 'clouds': {'all': 96}, 'wind': {'speed': 1.33, 'deg': 82, 'gust': 2.27}, 'visibility': 10000, 'pop': 0, 'sys': {'pod': 'n'}, 'dt_txt': '2024-02-13 21:00:00'}, {'dt': 1707868800, 'main': {'temp': 279.69, 'feels_like': 279.69, 'temp_min': 279.69, 'temp_max': 279.69, 'pressure': 1009, 'sea_level': 1009, 'grnd_level': 1007, 'humidity': 84, 'temp_kf': 0}, 'weather': [{'id': 804, 'main': 'Clouds', 'description': 'overcast clouds', 'icon': '04n'}], 'clouds': {'all': 92}, 'wind': {'speed': 1.29, 'deg': 52, 'gust': 1.74}, 'visibility': 10000, 'pop': 0, 'sys': {'pod': 'n'}, 'dt_txt': '2024-02-14 00:00:00'}, {'dt': 1707879600, 'main': {'temp': 279.32, 'feels_like': 279.32, 'temp_min': 279.32, 'temp_max': 279.32, 'pressure': 1011, 'sea_level': 1011, 'grnd_level': 1008, 'humidity': 88, 'temp_kf': 0}, 'weather': [{'id': 804, 'main': 'Clouds', 'description': 'overcast clouds', 'icon': '04n'}], 'clouds': {'all': 100}, 'wind': {'speed': 0.99, 'deg': 50, 'gust': 1.15}, 'visibility': 10000, 'pop': 0, 'sys': {'pod': 'n'}, 'dt_txt': '2024-02-14 03:00:00'}, {'dt': 1707890400, 'main': {'temp': 279.12, 'feels_like': 279.12, 'temp_min': 279.12, 'temp_max': 279.12, 'pressure': 1012, 'sea_level': 1012, 'grnd_level': 1009, 'humidity': 89, 'temp_kf': 0}, 'weather': [{'id': 804, 'main': 'Clouds', 'description': 'overcast clouds', 'icon': '04n'}], 'clouds': {'all': 100}, 'wind': {'speed': 0.85, 'deg': 99, 'gust': 0.89}, 'visibility': 10000, 'pop': 0, 'sys': {'pod': 'n'}, 'dt_txt': '2024-02-14 06:00:00'}, {'dt': 1707901200, 'main': {'temp': 279.85, 'feels_like': 279.85, 'temp_min': 279.85, 'temp_max': 279.85, 'pressure': 1014, 'sea_level': 1014, 'grnd_level': 1011, 'humidity': 87, 'temp_kf': 0}, 'weather': [{'id': 803, 'main': 'Clouds', 'description': 'broken clouds', 'icon': '04d'}], 'clouds': {'all': 65}, 'wind': {'speed': 1.17, 'deg': 140, 'gust': 2.21}, 'visibility': 10000, 'pop': 0, 'sys': {'pod': 'd'}, 'dt_txt': '2024-02-14 09:00:00'}], 'city': {'id': 2643743, 'name': 'London', 'coord': {'lat': 51.51, 'lon': -0.13}, 'country': 'GB', 'population': 1000000, 'timezone': 0, 'sunrise': 1707463611, 'sunset': 1707498160}}\n",
            "<class 'dict'>\n"
          ]
        }
      ]
    },
    {
      "cell_type": "markdown",
      "source": [
        "# get meaningful data from api\n",
        "refer to: https://openweathermap.org/forecast5\n",
        "\n",
        "JSON format API response is a list of dict and the data we need is in key name \"list\"\n",
        "\n"
      ],
      "metadata": {
        "id": "GyUqyQrMICqv"
      }
    },
    {
      "cell_type": "code",
      "source": [
        "weather_data = response['list']"
      ],
      "metadata": {
        "id": "OYhNVvkl8TVY"
      },
      "execution_count": 12,
      "outputs": []
    },
    {
      "cell_type": "markdown",
      "source": [
        "# Extract the relevant data from each time step\n",
        "Each time step in the list concist of\n",
        "\n",
        "dt (key of dictionary contain value of time,unix)\n",
        "\n",
        "main (key of dictionary contain value ofdictionary of feel_like, temp_min, temp_min, humidnity)\n",
        "\n",
        "weather(key of dictionary contain value of list of dictionary of main, and description)\n",
        "\n",
        "cloud(key of dictionary contain value of Cloudiness(%))\n",
        "\n",
        "wind(key of dictionary contain value of wind speed and direction)\n",
        "\n",
        "you can read the other in https://openweathermap.org/forecast5\n"
      ],
      "metadata": {
        "id": "6ECH5q4ak_6R"
      }
    },
    {
      "cell_type": "code",
      "source": [
        "df_data = []        #create blank of list\n",
        "for item in weather_data:     #for each time step\n",
        "    # Extract the relevant data from each time step\n",
        "    dt = item['dt']\n",
        "    dt_txt = item['dt_txt']\n",
        "    main = item['main']\n",
        "    weather = item['weather'][0]  # becareful weather is a list!!!\n",
        "    clouds = item['clouds']\n",
        "    wind = item['wind']\n",
        "\n",
        "    # Create a dictionary for this time step\n",
        "    item_data = {\n",
        "        'dt': dt,\n",
        "        'dt_txt': dt_txt,\n",
        "        'temp': main['temp'],\n",
        "        'feels_like': main['feels_like'],\n",
        "        'temp_min': main['temp_min'],\n",
        "        'temp_max': main['temp_max'],\n",
        "        'humidity': main['humidity'],\n",
        "        'weather_main': weather['main'],\n",
        "        'weather_description': weather['description'],\n",
        "        'clouds': clouds['all'],\n",
        "        'wind_speed': wind['speed'],\n",
        "        'wind_deg': wind['deg'],\n",
        "    }\n",
        "\n",
        "    # Add the item data to the list\n",
        "    df_data.append(item_data)\n",
        "\n",
        "# Create a pandas DataFrame from the list of dictionaries\n",
        "df = pd.DataFrame(df_data)\n",
        "\n",
        "print(df)\n",
        "\n",
        "# save to weather.csv\n",
        "df.to_csv('weather.csv', index= False)"
      ],
      "metadata": {
        "colab": {
          "base_uri": "https://localhost:8080/"
        },
        "id": "GOz0tHwB7WSy",
        "outputId": "e2d8fdfa-fc7b-4f4c-c8d0-e42c2de291af"
      },
      "execution_count": 14,
      "outputs": [
        {
          "output_type": "stream",
          "name": "stdout",
          "text": [
            "            dt               dt_txt    temp  feels_like  temp_min  temp_max  \\\n",
            "0   1707480000  2024-02-09 12:00:00  284.77      284.31    284.63    284.77   \n",
            "1   1707490800  2024-02-09 15:00:00  284.78      284.24    284.78    284.79   \n",
            "2   1707501600  2024-02-09 18:00:00  284.18      283.58    283.88    284.18   \n",
            "3   1707512400  2024-02-09 21:00:00  282.86      280.94    282.86    282.86   \n",
            "4   1707523200  2024-02-10 00:00:00  282.33      281.82    282.33    282.33   \n",
            "5   1707534000  2024-02-10 03:00:00  282.42      282.04    282.42    282.42   \n",
            "6   1707544800  2024-02-10 06:00:00  282.10      281.37    282.10    282.10   \n",
            "7   1707555600  2024-02-10 09:00:00  281.79      280.44    281.79    281.79   \n",
            "8   1707566400  2024-02-10 12:00:00  283.29      282.11    283.29    283.29   \n",
            "9   1707577200  2024-02-10 15:00:00  283.43      282.13    283.43    283.43   \n",
            "10  1707588000  2024-02-10 18:00:00  281.16      279.40    281.16    281.16   \n",
            "11  1707598800  2024-02-10 21:00:00  280.36      278.45    280.36    280.36   \n",
            "12  1707609600  2024-02-11 00:00:00  280.34      278.29    280.34    280.34   \n",
            "13  1707620400  2024-02-11 03:00:00  280.39      278.83    280.39    280.39   \n",
            "14  1707631200  2024-02-11 06:00:00  280.36      279.70    280.36    280.36   \n",
            "15  1707642000  2024-02-11 09:00:00  280.82      280.14    280.82    280.82   \n",
            "16  1707652800  2024-02-11 12:00:00  281.70      280.17    281.70    281.70   \n",
            "17  1707663600  2024-02-11 15:00:00  281.09      278.28    281.09    281.09   \n",
            "18  1707674400  2024-02-11 18:00:00  280.71      278.03    280.71    280.71   \n",
            "19  1707685200  2024-02-11 21:00:00  278.97      275.99    278.97    278.97   \n",
            "20  1707696000  2024-02-12 00:00:00  277.89      275.14    277.89    277.89   \n",
            "21  1707706800  2024-02-12 03:00:00  277.30      274.57    277.30    277.30   \n",
            "22  1707717600  2024-02-12 06:00:00  276.86      274.33    276.86    276.86   \n",
            "23  1707728400  2024-02-12 09:00:00  278.36      275.94    278.36    278.36   \n",
            "24  1707739200  2024-02-12 12:00:00  282.76      280.22    282.76    282.76   \n",
            "25  1707750000  2024-02-12 15:00:00  283.21      281.89    283.21    283.21   \n",
            "26  1707760800  2024-02-12 18:00:00  281.45      278.25    281.45    281.45   \n",
            "27  1707771600  2024-02-12 21:00:00  280.00      276.63    280.00    280.00   \n",
            "28  1707782400  2024-02-13 00:00:00  278.80      275.28    278.80    278.80   \n",
            "29  1707793200  2024-02-13 03:00:00  277.81      274.93    277.81    277.81   \n",
            "30  1707804000  2024-02-13 06:00:00  276.96      275.18    276.96    276.96   \n",
            "31  1707814800  2024-02-13 09:00:00  277.88      276.82    277.88    277.88   \n",
            "32  1707825600  2024-02-13 12:00:00  281.21      280.27    281.21    281.21   \n",
            "33  1707836400  2024-02-13 15:00:00  282.03      280.58    282.03    282.03   \n",
            "34  1707847200  2024-02-13 18:00:00  280.71      280.71    280.71    280.71   \n",
            "35  1707858000  2024-02-13 21:00:00  280.36      280.36    280.36    280.36   \n",
            "36  1707868800  2024-02-14 00:00:00  279.69      279.69    279.69    279.69   \n",
            "37  1707879600  2024-02-14 03:00:00  279.32      279.32    279.32    279.32   \n",
            "38  1707890400  2024-02-14 06:00:00  279.12      279.12    279.12    279.12   \n",
            "39  1707901200  2024-02-14 09:00:00  279.85      279.85    279.85    279.85   \n",
            "\n",
            "    humidity weather_main weather_description  clouds  wind_speed  wind_deg  \n",
            "0         89         Rain          light rain      75        6.54       210  \n",
            "1         86         Rain          light rain      82        6.37       197  \n",
            "2         86         Rain          light rain      91        5.93       196  \n",
            "3         91       Clouds     overcast clouds     100        3.69       196  \n",
            "4         96         Rain          light rain     100        1.54       178  \n",
            "5         98         Rain          light rain     100        1.43       171  \n",
            "6         95         Rain          light rain     100        1.72       246  \n",
            "7         83       Clouds     overcast clouds      99        2.40       226  \n",
            "8         67       Clouds     overcast clouds     100        2.89       199  \n",
            "9         62       Clouds     overcast clouds     100        3.61       179  \n",
            "10        77       Clouds     overcast clouds     100        2.80       154  \n",
            "11        76       Clouds     overcast clouds     100        2.80       128  \n",
            "12        82       Clouds     overcast clouds     100        2.99       113  \n",
            "13        89       Clouds     overcast clouds     100        2.34       112  \n",
            "14        93         Rain          light rain      99        1.43        71  \n",
            "15        91         Rain          light rain     100        1.50        14  \n",
            "16        84         Rain          light rain      99        2.62       298  \n",
            "17        82         Rain          light rain     100        4.73       291  \n",
            "18        78         Rain          light rain      99        4.25       278  \n",
            "19        81       Clouds    scattered clouds      40        4.05       270  \n",
            "20        87       Clouds          few clouds      21        3.29       247  \n",
            "21        86       Clouds          few clouds      11        3.09       240  \n",
            "22        86        Clear           clear sky       9        2.72       214  \n",
            "23        80       Clouds          few clouds      20        2.95       202  \n",
            "24        67       Clouds    scattered clouds      34        5.09       224  \n",
            "25        62         Rain          light rain      15        6.00       227  \n",
            "26        73         Rain          light rain      35        5.96       230  \n",
            "27        74         Rain          light rain      96        5.40       249  \n",
            "28        76       Clouds       broken clouds      68        5.05       253  \n",
            "29        79        Clear           clear sky       0        3.45       245  \n",
            "30        82        Clear           clear sky       5        1.96       233  \n",
            "31        74       Clouds     overcast clouds      90        1.48       222  \n",
            "32        57       Clouds     overcast clouds      86        1.80       190  \n",
            "33        61       Clouds       broken clouds      79        2.59       181  \n",
            "34        76       Clouds     overcast clouds      87        1.23       137  \n",
            "35        80       Clouds     overcast clouds      96        1.33        82  \n",
            "36        84       Clouds     overcast clouds      92        1.29        52  \n",
            "37        88       Clouds     overcast clouds     100        0.99        50  \n",
            "38        89       Clouds     overcast clouds     100        0.85        99  \n",
            "39        87       Clouds       broken clouds      65        1.17       140  \n"
          ]
        }
      ]
    }
  ]
}